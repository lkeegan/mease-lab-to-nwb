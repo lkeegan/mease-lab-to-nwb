{
 "cells": [
  {
   "cell_type": "code",
   "execution_count": null,
   "metadata": {},
   "outputs": [],
   "source": [
    "%load_ext autoreload\n",
    "%autoreload 2"
   ]
  },
  {
   "cell_type": "markdown",
   "metadata": {},
   "source": [
    "# SpikeInterface pipeline for Mease Lab - CED"
   ]
  },
  {
   "cell_type": "code",
   "execution_count": null,
   "metadata": {},
   "outputs": [],
   "source": [
    "from pathlib import Path\n",
    "from os import getenv\n",
    "import numpy as np\n",
    "from pprint import pprint\n",
    "import matplotlib.pyplot as plt"
   ]
  },
  {
   "cell_type": "code",
   "execution_count": null,
   "metadata": {},
   "outputs": [],
   "source": [
    "import spikeinterface as si\n",
    "import spikeinterface.extractors as se\n",
    "import spikeinterface.toolkit as st\n",
    "import spikeinterface.sorters as ss\n",
    "import spikeinterface.comparison as sc\n",
    "import spikeinterface.widgets as sw\n",
    "import spikeinterface.exporters as sx\n",
    "import probeinterface as sp"
   ]
  },
  {
   "cell_type": "code",
   "execution_count": null,
   "metadata": {},
   "outputs": [],
   "source": [
    "import spikeextractors as oldse"
   ]
  },
  {
   "cell_type": "markdown",
   "metadata": {},
   "source": [
    "## Bin recording"
   ]
  },
  {
   "cell_type": "code",
   "execution_count": null,
   "metadata": {},
   "outputs": [],
   "source": [
    "bin_file = Path(\n",
    "    r\"/mnt/sds-hd/sd19b001/PainData/Corrected_Channel_Map/L6/Cortex/20.8.21/KS2/m6.bin\"\n",
    ")\n",
    "recording_prb = \"cambridge_neurotech_H3.prb\"\n",
    "sampling_frequency = 3.003003003003003e04\n",
    "data_type = \"int16\"\n",
    "numChan = 64;"
   ]
  },
  {
   "cell_type": "code",
   "execution_count": null,
   "metadata": {},
   "outputs": [],
   "source": [
    "# Rhd channels should have already been selected thanks to smrx2bin\n",
    "recording = se.BinaryRecordingExtractor(\n",
    "    bin_file, sampling_frequency, numChan, data_type\n",
    ")"
   ]
  },
  {
   "cell_type": "code",
   "execution_count": null,
   "metadata": {},
   "outputs": [],
   "source": [
    "# load probe file\n",
    "probegroup = sp.read_prb(recording_prb)"
   ]
  },
  {
   "cell_type": "code",
   "execution_count": null,
   "metadata": {},
   "outputs": [],
   "source": [
    "# add probe file to recording\n",
    "recording_bin = recording_bin.set_probegroup(probegroup)"
   ]
  },
  {
   "cell_type": "code",
   "execution_count": null,
   "metadata": {},
   "outputs": [],
   "source": [
    "print(f\"Num channels: {recording_bin.get_num_channels()}\")\n",
    "print(f\"Channel ids: {recording_bin.get_channel_ids()}\")\n",
    "print(f\"Sampling rate: {recording_bin.get_sampling_frequency()}\")\n",
    "print(\n",
    "    f\"Duration (s): {recording_bin.get_num_frames() / recording_bin.get_sampling_frequency()}\"\n",
    ")"
   ]
  },
  {
   "cell_type": "markdown",
   "metadata": {},
   "source": [
    "## Smrx recordings"
   ]
  },
  {
   "cell_type": "code",
   "execution_count": null,
   "metadata": {},
   "outputs": [],
   "source": [
    "smrx_files = sorted(\n",
    "    list(\n",
    "        Path(\n",
    "            r\"/mnt/sds-hd/sd19b001/PainData/Corrected_Channel_Map/L6/Cortex/20.8.21/KS2\"\n",
    "        ).glob(\"**/*.smrx\")\n",
    "    )\n",
    ")"
   ]
  },
  {
   "cell_type": "code",
   "execution_count": null,
   "metadata": {},
   "outputs": [],
   "source": [
    "# Automatically select Rhd channels\n",
    "channel_info = oldse.CEDRecordingExtractor.get_all_channels_info(smrx_files[0])\n",
    "\n",
    "rhd_channels = []\n",
    "for ch, info in channel_info.items():\n",
    "    if \"Rhd\" in info[\"title\"]:\n",
    "        rhd_channels.append(ch)"
   ]
  },
  {
   "cell_type": "code",
   "execution_count": null,
   "metadata": {},
   "outputs": [],
   "source": [
    "recordings_ced = [se.read_ced(file, stream_id=\"1\") for file in smrx_files]\n",
    "recordings_ced"
   ]
  },
  {
   "cell_type": "code",
   "execution_count": null,
   "metadata": {},
   "outputs": [],
   "source": [
    "recordings_ced = [r.channel_slice(r.channel_ids[rhd_channels]) for r in recordings_ced]"
   ]
  },
  {
   "cell_type": "code",
   "execution_count": null,
   "metadata": {},
   "outputs": [],
   "source": [
    "recordings_ced"
   ]
  },
  {
   "cell_type": "code",
   "execution_count": null,
   "metadata": {},
   "outputs": [],
   "source": [
    "# recordings_ced = [oldse.CEDRecordingExtractor(file, smrx_channel_ids=rhd_channels) for file in smrx_files]"
   ]
  },
  {
   "cell_type": "code",
   "execution_count": null,
   "metadata": {},
   "outputs": [],
   "source": [
    "recording_ced = si.concatenate_recordings(recordings_ced)"
   ]
  },
  {
   "cell_type": "code",
   "execution_count": null,
   "metadata": {},
   "outputs": [],
   "source": [
    "# add probe file to recording\n",
    "recording_ced = recording_ced.set_probegroup(probegroup)"
   ]
  },
  {
   "cell_type": "code",
   "execution_count": null,
   "metadata": {},
   "outputs": [],
   "source": [
    "print(f\"Num channels: {recording_ced.get_num_channels()}\")\n",
    "print(f\"Channel ids: {recording_ced.get_channel_ids()}\")\n",
    "print(f\"Sampling rate: {recording_ced.get_sampling_frequency()}\")\n",
    "print(\n",
    "    f\"Duration (s): {recording_ced.get_num_frames() / recording_ced.get_sampling_frequency()}\"\n",
    ")"
   ]
  },
  {
   "cell_type": "markdown",
   "metadata": {},
   "source": [
    "## CMR"
   ]
  },
  {
   "cell_type": "code",
   "execution_count": null,
   "metadata": {},
   "outputs": [],
   "source": [
    "recording_ced_cmr = st.preprocessing.common_reference(recording_ced)\n",
    "recording_bin_cmr = st.preprocessing.common_reference(recording_bin)"
   ]
  },
  {
   "cell_type": "markdown",
   "metadata": {},
   "source": [
    "## Inspect signals"
   ]
  },
  {
   "cell_type": "code",
   "execution_count": null,
   "metadata": {},
   "outputs": [],
   "source": [
    "start = 0\n",
    "end = 500\n",
    "channel = 2\n",
    "\n",
    "plt.figure()\n",
    "plt.title(\"Trace\")\n",
    "plt.plot(\n",
    "    recording_bin.get_traces(start_frame=start, end_frame=end)[:, channel],\n",
    "    label=f\"bin channel {channel}\",\n",
    ")\n",
    "plt.plot(\n",
    "    recording_ced.get_traces(start_frame=start, end_frame=end)[:, channel],\n",
    "    label=f\"ced channel {channel}\",\n",
    ")\n",
    "plt.legend()\n",
    "plt.show()"
   ]
  },
  {
   "cell_type": "code",
   "execution_count": null,
   "metadata": {},
   "outputs": [],
   "source": [
    "plt.figure()\n",
    "plt.title(\"Trace\")\n",
    "plt.plot(\n",
    "    recording_ced.get_traces(start_frame=start, end_frame=end)[:, channel],\n",
    "    label=f\"ced channel {channel}\",\n",
    ")\n",
    "plt.plot(\n",
    "    recording_ced_cmr.get_traces(start_frame=start, end_frame=end)[:, channel],\n",
    "    label=f\"ced channel {channel} CMR\",\n",
    ")\n",
    "plt.legend()\n",
    "plt.show()"
   ]
  },
  {
   "cell_type": "code",
   "execution_count": null,
   "metadata": {},
   "outputs": [],
   "source": [
    "plt.figure()\n",
    "plt.title(\"Difference\")\n",
    "plt.plot(\n",
    "    recording_bin.get_traces(start_frame=start, end_frame=end)[:, channel]\n",
    "    - recording_ced.get_traces(start_frame=start, end_frame=end)[:, channel],\n",
    "    label=f\"bin channel {channel} - ced channel {channel}\",\n",
    ")\n",
    "plt.legend()\n",
    "plt.show()"
   ]
  },
  {
   "cell_type": "code",
   "execution_count": null,
   "metadata": {},
   "outputs": [],
   "source": [
    "plt.figure()\n",
    "plt.title(\"Difference\")\n",
    "plt.plot(\n",
    "    recording_ced.get_traces(start_frame=start, end_frame=end)[:, channel]\n",
    "    - recording_ced_cmr.get_traces(start_frame=start, end_frame=end)[:, channel],\n",
    "    label=f\"ced channel {channel} - ced channel {channel} CMR\",\n",
    ")\n",
    "plt.legend()\n",
    "plt.show()"
   ]
  },
  {
   "cell_type": "code",
   "execution_count": null,
   "metadata": {},
   "outputs": [],
   "source": []
  }
 ],
 "metadata": {
  "kernelspec": {
   "display_name": "Python 3 (ipykernel)",
   "language": "python",
   "name": "python3"
  },
  "language_info": {
   "codemirror_mode": {
    "name": "ipython",
    "version": 3
   },
   "file_extension": ".py",
   "mimetype": "text/x-python",
   "name": "python",
   "nbconvert_exporter": "python",
   "pygments_lexer": "ipython3",
   "version": "3.8.11"
  },
  "pycharm": {
   "stem_cell": {
    "cell_type": "raw",
    "metadata": {
     "collapsed": false
    },
    "source": []
   }
  }
 },
 "nbformat": 4,
 "nbformat_minor": 4
}
