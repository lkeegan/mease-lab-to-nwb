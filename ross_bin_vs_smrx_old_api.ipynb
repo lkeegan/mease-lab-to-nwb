{
 "cells": [
  {
   "cell_type": "code",
   "execution_count": null,
   "metadata": {},
   "outputs": [],
   "source": [
    "%load_ext autoreload\n",
    "%autoreload 2"
   ]
  },
  {
   "cell_type": "markdown",
   "metadata": {},
   "source": [
    "# bin vs smrx"
   ]
  },
  {
   "cell_type": "code",
   "execution_count": null,
   "metadata": {},
   "outputs": [],
   "source": [
    "from pathlib import Path\n",
    "import numpy as np\n",
    "from pprint import pprint\n",
    "from datetime import datetime\n",
    "import matplotlib.pyplot as plt\n",
    "\n",
    "import spikeextractors as se\n",
    "import spiketoolkit as st\n",
    "import spikesorters as ss\n",
    "import spikecomparison as sc\n",
    "import spikewidgets as sw\n",
    "\n",
    "# from mease_lab_to_nwb.convert_ced.cednwbconverter import quick_write"
   ]
  },
  {
   "cell_type": "markdown",
   "metadata": {},
   "source": [
    "## Load & concatenate CED recordings"
   ]
  },
  {
   "cell_type": "code",
   "execution_count": null,
   "metadata": {},
   "outputs": [],
   "source": [
    "ced_files = sorted(\n",
    "    list(\n",
    "        Path(\n",
    "            r\"/mnt/sds-hd/sd19b001/PainData/Corrected_Channel_Map/L6/Cortex/20.8.21/KS2\"\n",
    "        ).glob(\"**/*.smrx\")\n",
    "    )\n",
    ")\n",
    "probe_file = \"cambridge_neurotech_H3.prb\""
   ]
  },
  {
   "cell_type": "code",
   "execution_count": null,
   "metadata": {},
   "outputs": [],
   "source": [
    "recordings = []\n",
    "for file in ced_files:\n",
    "    # Automatically select Rhd channels\n",
    "    channel_info = se.CEDRecordingExtractor.get_all_channels_info(file)\n",
    "    rhd_channels = []\n",
    "    for ch, info in channel_info.items():\n",
    "        if \"Rhd\" in info[\"title\"]:\n",
    "            rhd_channels.append(ch)\n",
    "    recording = se.CEDRecordingExtractor(file, smrx_channel_ids=rhd_channels)\n",
    "    recording = se.load_probe_file(recording, probe_file)\n",
    "    recordings.append(recording)\n",
    "# instantiate a MultiRecording object\n",
    "multirecording = se.MultiRecordingTimeExtractor(recordings)"
   ]
  },
  {
   "cell_type": "code",
   "execution_count": null,
   "metadata": {},
   "outputs": [],
   "source": [
    "for epoch_name in multirecording.get_epoch_names():\n",
    "    print(multirecording.get_epoch_info(epoch_name))"
   ]
  },
  {
   "cell_type": "code",
   "execution_count": null,
   "metadata": {},
   "outputs": [],
   "source": [
    "multirecording_cmr = st.preprocessing.common_reference(multirecording)"
   ]
  },
  {
   "cell_type": "markdown",
   "metadata": {},
   "source": [
    "## Load bin recording"
   ]
  },
  {
   "cell_type": "code",
   "execution_count": null,
   "metadata": {},
   "outputs": [],
   "source": [
    "# bin_file = Path(r'/mnt/sds-hd/sd19b001/PainData/Corrected_Channel_Map/L6/Cortex/20.8.21/KS2/m6.bin')\n",
    "bin_file = Path(\n",
    "    r\"/mnt/sds-hd/sd19b001/PainData/Corrected_Channel_Map/L6/Cortex/20.8.21/KS2_5/Troubleshooting_11_3_22/m6Troubleshooting11322.bin\"\n",
    ")\n",
    "recording_prb = \"cambridge_neurotech_H3.prb\"\n",
    "sampling_frequency = 3.003003003003003e04\n",
    "data_type = \"int16\"\n",
    "numChan = 64\n",
    "recording_bin = se.BinDatRecordingExtractor(\n",
    "    bin_file, sampling_frequency, numChan, data_type\n",
    ")\n",
    "recording_bin_cmr = st.preprocessing.common_reference(recording_bin)"
   ]
  },
  {
   "cell_type": "code",
   "execution_count": null,
   "metadata": {},
   "outputs": [],
   "source": [
    "recording_bin.get_traces(63)[0][0:3]"
   ]
  },
  {
   "cell_type": "markdown",
   "metadata": {},
   "source": [
    "## Compare raw traces"
   ]
  },
  {
   "cell_type": "code",
   "execution_count": null,
   "metadata": {},
   "outputs": [],
   "source": [
    "channel = 1\n",
    "start = 0\n",
    "end = 500\n",
    "scaleFactor = 8.423"
   ]
  },
  {
   "cell_type": "code",
   "execution_count": null,
   "metadata": {},
   "outputs": [],
   "source": [
    "111319410 / sampling_frequency"
   ]
  },
  {
   "cell_type": "code",
   "execution_count": null,
   "metadata": {},
   "outputs": [],
   "source": [
    "plt.figure()\n",
    "plt.title(\"Traces agree (with arbitrary rescaling)\")\n",
    "# plt.plot(scaleFactor*multirecording.get_traces(channel_ids=channel, start_frame=start, end_frame=end)[0], label=f\"ced channel {channel}\")\n",
    "plt.plot(\n",
    "    scaleFactor\n",
    "    * multirecording_cmr.get_traces(\n",
    "        channel_ids=channel, start_frame=start, end_frame=end\n",
    "    )[0],\n",
    "    label=f\"ced channel {channel}\",\n",
    ")\n",
    "plt.plot(\n",
    "    recording_bin.get_traces(channel_ids=channel, start_frame=start, end_frame=end)[0],\n",
    "    label=f\"bin channel {channel}\",\n",
    ")\n",
    "plt.legend()\n",
    "plt.show()"
   ]
  },
  {
   "cell_type": "code",
   "execution_count": null,
   "metadata": {},
   "outputs": [],
   "source": [
    "plt.figure()\n",
    "plt.title(\"Trace difference\")\n",
    "plt.plot(\n",
    "    scaleFactor\n",
    "    * multirecording_cmr.get_traces(\n",
    "        channel_ids=channel, start_frame=start, end_frame=end\n",
    "    )[0]\n",
    "    - recording_bin.get_traces(channel_ids=channel, start_frame=start, end_frame=end)[\n",
    "        0\n",
    "    ],\n",
    "    label=f\"channel {channel}\",\n",
    ")\n",
    "plt.legend()\n",
    "plt.show()"
   ]
  },
  {
   "cell_type": "markdown",
   "metadata": {},
   "source": [
    "## Compare raw traces at concatenation location"
   ]
  },
  {
   "cell_type": "code",
   "execution_count": null,
   "metadata": {},
   "outputs": [],
   "source": [
    "channel = 12\n",
    "# first concatenation at 111319410\n",
    "start = 111319410 - 10\n",
    "end = 111319410 + 10"
   ]
  },
  {
   "cell_type": "code",
   "execution_count": null,
   "metadata": {},
   "outputs": [],
   "source": [
    "plt.figure()\n",
    "plt.title(\"Trace: bin concatenation skips a value\")\n",
    "plt.plot(\n",
    "    scaleFactor\n",
    "    * multirecording_cmr.get_traces(\n",
    "        channel_ids=channel, start_frame=start, end_frame=end\n",
    "    )[0],\n",
    "    label=f\"ced channel {channel}\",\n",
    ")\n",
    "plt.plot(\n",
    "    recording_bin.get_traces(channel_ids=channel, start_frame=start, end_frame=end)[0],\n",
    "    label=f\"bin channel {channel}\",\n",
    ")\n",
    "plt.legend()\n",
    "plt.show()"
   ]
  },
  {
   "cell_type": "code",
   "execution_count": null,
   "metadata": {},
   "outputs": [],
   "source": [
    "plt.rcParams[\"figure.figsize\"] = (20, 20)"
   ]
  },
  {
   "cell_type": "markdown",
   "metadata": {},
   "source": [
    "## Raw traces, all channels"
   ]
  },
  {
   "cell_type": "code",
   "execution_count": null,
   "metadata": {},
   "outputs": [],
   "source": [
    "w_ts_ap = sw.plot_timeseries(recording_bin, trange=[3920, 3980])"
   ]
  },
  {
   "cell_type": "code",
   "execution_count": null,
   "metadata": {},
   "outputs": [],
   "source": [
    "ks_params = ss.get_default_params(\"kilosort2_5\")"
   ]
  },
  {
   "cell_type": "code",
   "execution_count": null,
   "metadata": {},
   "outputs": [],
   "source": [
    "ks_params"
   ]
  },
  {
   "cell_type": "code",
   "execution_count": null,
   "metadata": {},
   "outputs": [],
   "source": [
    "ss.run_kilosort2_5(multirecording_cmr, verbose=True, **ks_params)"
   ]
  },
  {
   "cell_type": "code",
   "execution_count": null,
   "metadata": {},
   "outputs": [],
   "source": []
  }
 ],
 "metadata": {
  "kernelspec": {
   "display_name": "Python 3 (ipykernel)",
   "language": "python",
   "name": "python3"
  },
  "language_info": {
   "codemirror_mode": {
    "name": "ipython",
    "version": 3
   },
   "file_extension": ".py",
   "mimetype": "text/x-python",
   "name": "python",
   "nbconvert_exporter": "python",
   "pygments_lexer": "ipython3",
   "version": "3.9.7"
  }
 },
 "nbformat": 4,
 "nbformat_minor": 4
}
