{
 "cells": [
  {
   "cell_type": "code",
   "execution_count": null,
   "id": "db37b5eb",
   "metadata": {},
   "outputs": [],
   "source": [
    "# Python script to concatenate, pre-process & sort smrx files with kilosort 2, 2.5, 3\n",
    "\n",
    "import spikeinterface as si\n",
    "import spikeinterface.extractors as se\n",
    "import spikeinterface.sorters as ss\n",
    "import spikeinterface.toolkit as st\n",
    "import spikeinterface.widgets as sw\n",
    "import spikeinterface.exporters as sx\n",
    "import probeinterface as pi\n",
    "from pathlib import Path\n",
    "from pprint import pformat\n",
    "import datetime\n",
    "import os\n",
    "import matplotlib.pyplot as plt\n",
    "from pynwb import NWBHDF5IO\n",
    "\n",
    "# the path where smrx files can be found\n",
    "base_path = Path(\n",
    "    r\"/mnt/sds-hd/sd19b001/PainData/Corrected_Channel_Map/L6/Cortex/20.8.21/KS2\"\n",
    ")\n",
    "# the location of the probe file\n",
    "probe_file = Path(r\"/mnt/sds-hd/sd19b001/Liam/probes/cambridge_neurotech_H3.prb\")\n",
    "# the path where the output (recording, kilosort, phy, waveforms) should go\n",
    "output_path = Path(r\"/mnt/sds-hd/sd19b001/Liam/Ross_May_3\")\n",
    "\n",
    "# a print function that timestamps the output\n",
    "def tprint(string=\"\"):\n",
    "    print(f\"|| {datetime.datetime.now():%H:%M:%S} || {string}\")"
   ]
  },
  {
   "cell_type": "code",
   "execution_count": null,
   "id": "a9019032",
   "metadata": {},
   "outputs": [],
   "source": [
    "# load recording, sorting, waveforms:\n",
    "saved_recording = si.core.load_extractor(output_path / \"SI_recording\")\n",
    "sorting = se.read_kilosort(output_path / \"tmp_sorting/recording_0/kilosort2\")"
   ]
  },
  {
   "cell_type": "code",
   "execution_count": null,
   "id": "46b96471",
   "metadata": {},
   "outputs": [],
   "source": [
    "wf_path = str(output_path / \"wf_ks2\")\n",
    "wf = si.extract_waveforms(\n",
    "    saved_recording,\n",
    "    sorting,\n",
    "    folder=wf_path,\n",
    "    load_if_exists=True,\n",
    "    max_spikes_per_unit=None,\n",
    "    n_jobs=16,\n",
    "    total_memory=\"1G\",\n",
    "    progress_bar=True,\n",
    ")  # , overwrite=True"
   ]
  },
  {
   "cell_type": "code",
   "execution_count": null,
   "id": "2edd7ae8",
   "metadata": {},
   "outputs": [],
   "source": [
    "from mease_lab_to_nwb import CEDNWBConverter"
   ]
  },
  {
   "cell_type": "code",
   "execution_count": null,
   "id": "06acfdb1",
   "metadata": {},
   "outputs": [],
   "source": [
    "# use small text smrx file for now as very slow to convert to nwb\n",
    "file_recording = \"../tests/data/RhdD_H5_Mech+Laser.smrx\"\n",
    "source_data = dict(\n",
    "    CEDRecording=dict(file_path=file_recording),\n",
    "    CEDStimulus=dict(file_path=file_recording),\n",
    "    Elabftw=dict(experiment_id=388),\n",
    "    Kilosort=dict(folder_path=str(output_path / \"tmp_sorting/recording_0/kilosort2\")),\n",
    ")\n",
    "converter = CEDNWBConverter(source_data)"
   ]
  },
  {
   "cell_type": "code",
   "execution_count": null,
   "id": "a3d09424",
   "metadata": {},
   "outputs": [],
   "source": [
    "# run converter\n",
    "file_nwb = \"kstest.nwb\"\n",
    "converter.run_conversion(nwbfile_path=file_nwb, save_to_file=True, overwrite=True)"
   ]
  },
  {
   "cell_type": "code",
   "execution_count": null,
   "id": "9a48cdce",
   "metadata": {},
   "outputs": [],
   "source": [
    "# append units to nwb file\n",
    "from nwb_conversion_tools import spikeinterface\n",
    "\n",
    "# open in append mode\n",
    "io = NWBHDF5IO(file_nwb, \"r+\")\n",
    "nwbfile = io.read()\n",
    "# add units to nwbfile\n",
    "spikeinterface.add_units(sorting=sorting, nwbfile=nwbfile)\n",
    "# write changes to disk\n",
    "io.write(nwbfile)\n",
    "io.close()"
   ]
  },
  {
   "cell_type": "code",
   "execution_count": null,
   "id": "253aa399",
   "metadata": {},
   "outputs": [],
   "source": [
    "# read nwb file\n",
    "io = NWBHDF5IO(file_nwb, \"r\")\n",
    "nwbfile = io.read()"
   ]
  },
  {
   "cell_type": "code",
   "execution_count": null,
   "id": "84479566",
   "metadata": {},
   "outputs": [],
   "source": [
    "?spikeinterface.add_units"
   ]
  },
  {
   "cell_type": "code",
   "execution_count": null,
   "id": "e6bbe5d6",
   "metadata": {},
   "outputs": [],
   "source": [
    "spikeinterface.add_electrode_groups(recording=saved_recording, nwbfile=nwbfile)"
   ]
  },
  {
   "cell_type": "code",
   "execution_count": null,
   "id": "afd7c8c5",
   "metadata": {},
   "outputs": [],
   "source": [
    "spikeinterface.add_electrodes(recording=saved_recording, nwbfile=nwbfile)"
   ]
  },
  {
   "cell_type": "code",
   "execution_count": null,
   "id": "eeb2962d",
   "metadata": {},
   "outputs": [],
   "source": [
    "# spikeinterface.add_electrical_series(recording=saved_recording, nwbfile=nwbfile, write_as='processed')"
   ]
  },
  {
   "cell_type": "code",
   "execution_count": null,
   "id": "db845737",
   "metadata": {},
   "outputs": [],
   "source": [
    "from nwbwidgets import nwb2widget\n",
    "\n",
    "nwb2widget(nwbfile)"
   ]
  },
  {
   "cell_type": "code",
   "execution_count": null,
   "id": "09cb0289",
   "metadata": {},
   "outputs": [],
   "source": []
  },
  {
   "cell_type": "code",
   "execution_count": null,
   "id": "6d45a169",
   "metadata": {},
   "outputs": [],
   "source": [
    "io.close()"
   ]
  },
  {
   "cell_type": "code",
   "execution_count": null,
   "id": "ef9d81a0",
   "metadata": {},
   "outputs": [],
   "source": [
    "from mease_lab_to_nwb.convert_ced.cednwbconverter import quick_write\n",
    "from datetime import datetime"
   ]
  },
  {
   "cell_type": "code",
   "execution_count": null,
   "id": "a7486596",
   "metadata": {},
   "outputs": [],
   "source": [
    "quick_write(\"a\", \"b\", datetime(1971, 1, 1), save_path=\"try.nwb\", sorting=sorting)"
   ]
  },
  {
   "cell_type": "code",
   "execution_count": null,
   "id": "f34fe597",
   "metadata": {},
   "outputs": [],
   "source": []
  }
 ],
 "metadata": {
  "kernelspec": {
   "display_name": "Python 3 (ipykernel)",
   "language": "python",
   "name": "python3"
  },
  "language_info": {
   "codemirror_mode": {
    "name": "ipython",
    "version": 3
   },
   "file_extension": ".py",
   "mimetype": "text/x-python",
   "name": "python",
   "nbconvert_exporter": "python",
   "pygments_lexer": "ipython3",
   "version": "3.8.13"
  }
 },
 "nbformat": 4,
 "nbformat_minor": 5
}
