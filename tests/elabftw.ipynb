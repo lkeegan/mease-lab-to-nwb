{
 "cells": [
  {
   "cell_type": "code",
   "execution_count": null,
   "id": "145f2ae7",
   "metadata": {},
   "outputs": [],
   "source": [
    "import mease_elabftw"
   ]
  },
  {
   "cell_type": "code",
   "execution_count": null,
   "id": "d2c67880",
   "metadata": {},
   "outputs": [],
   "source": [
    "mease_elabftw.list_experiments(\"Mease\")"
   ]
  },
  {
   "cell_type": "code",
   "execution_count": null,
   "id": "f246af1b",
   "metadata": {},
   "outputs": [],
   "source": [
    "mease_elabftw.get_nwb_metadata(388)"
   ]
  },
  {
   "cell_type": "code",
   "execution_count": null,
   "id": "a7ab5d7c-734e-4cde-9117-a6d897d69823",
   "metadata": {},
   "outputs": [],
   "source": [
    "?mease_elabftw.upload_file"
   ]
  },
  {
   "cell_type": "code",
   "execution_count": null,
   "id": "ff7e51bc",
   "metadata": {},
   "outputs": [],
   "source": []
  }
 ],
 "metadata": {
  "kernelspec": {
   "display_name": "Python 3 (ipykernel)",
   "language": "python",
   "name": "python3"
  },
  "language_info": {
   "codemirror_mode": {
    "name": "ipython",
    "version": 3
   },
   "file_extension": ".py",
   "mimetype": "text/x-python",
   "name": "python",
   "nbconvert_exporter": "python",
   "pygments_lexer": "ipython3",
   "version": "3.8.13"
  }
 },
 "nbformat": 4,
 "nbformat_minor": 5
}
