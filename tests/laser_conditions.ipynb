{
 "cells": [
  {
   "cell_type": "markdown",
   "metadata": {},
   "source": [
    "# Mease lab - CED Converter"
   ]
  },
  {
   "cell_type": "code",
   "execution_count": null,
   "metadata": {},
   "outputs": [],
   "source": [
    "from mease_lab_to_nwb import CEDNWBConverter\n",
    "from pynwb import NWBHDF5IO\n",
    "from nwbwidgets import nwb2widget\n",
    "from pathlib import Path"
   ]
  },
  {
   "cell_type": "code",
   "execution_count": null,
   "metadata": {},
   "outputs": [],
   "source": [
    "# Source data\n",
    "base_path = Path(r\"/mnt/sds/PainData/Corrected_Channel_Map/L6/Cortex/16.12.20\")\n",
    "\n",
    "file_recording = str(base_path / \"Dual_S1_VPL_Freq_10mW.smrx\")\n",
    "# file_recording = str(base_path / '10minsSpike2Recordingm365/m365_pt1_590-1190secs.smrx')\n",
    "# file_recording = str(base_path / 'CED_example_data/short_example/M113_C4.smrx')\n",
    "\n",
    "source_data = dict(\n",
    "    CEDRecording=dict(file_path=file_recording, smrx_channel_ids=[73]),\n",
    "    CEDStimulus=dict(file_path=file_recording),\n",
    ")"
   ]
  },
  {
   "cell_type": "code",
   "execution_count": null,
   "metadata": {},
   "outputs": [],
   "source": [
    "print(source_data[\"CEDRecording\"])"
   ]
  },
  {
   "cell_type": "code",
   "execution_count": null,
   "metadata": {},
   "outputs": [],
   "source": [
    "print(source_data[\"CEDStimulus\"])"
   ]
  },
  {
   "cell_type": "code",
   "execution_count": null,
   "metadata": {},
   "outputs": [],
   "source": [
    "# Initialize converter\n",
    "converter = CEDNWBConverter(source_data=source_data)"
   ]
  },
  {
   "cell_type": "code",
   "execution_count": null,
   "metadata": {},
   "outputs": [],
   "source": [
    "print(len(source_data[\"CEDRecording\"]))"
   ]
  },
  {
   "cell_type": "code",
   "execution_count": null,
   "metadata": {},
   "outputs": [],
   "source": [
    "print(source_data[\"CEDStimulus\"])"
   ]
  },
  {
   "cell_type": "code",
   "execution_count": null,
   "metadata": {},
   "outputs": [],
   "source": [
    "# Get metadata from source data and modify any values you want\n",
    "metadata = converter.get_metadata()\n",
    "metadata[\"NWBFile\"][\"session_description\"] = \"my example conversion\"\n",
    "metadata[\"NWBFile\"][\"session_start_time\"] = \"2020-12-08T16:30:00\"\n",
    "\n",
    "# Get conversion options and modify any values you want\n",
    "conversion_options = converter.get_conversion_options()\n",
    "conversion_options[\"CEDRecording\"] = dict(stub_test=False)\n",
    "\n",
    "# OPTIONAL - Validate source_data, metadata and conversion_options\n",
    "converter.validate_source(source_data)\n",
    "converter.validate_metadata(metadata)\n",
    "converter.validate_conversion_options(conversion_options)\n",
    "\n",
    "# Run conversion\n",
    "output_file = str(\"liam_test.nwb\")\n",
    "\n",
    "converter.run_conversion(\n",
    "    metadata=metadata,\n",
    "    nwbfile_path=output_file,\n",
    "    save_to_file=True,\n",
    "    overwrite=True,\n",
    "    conversion_options=conversion_options,\n",
    ")"
   ]
  },
  {
   "cell_type": "markdown",
   "metadata": {},
   "source": [
    "## Check NWB file with widgets"
   ]
  },
  {
   "cell_type": "code",
   "execution_count": null,
   "metadata": {},
   "outputs": [],
   "source": [
    "io = NWBHDF5IO(output_file, \"r\")\n",
    "nwbfile = io.read()\n",
    "nwb2widget(nwbfile)"
   ]
  },
  {
   "cell_type": "code",
   "execution_count": null,
   "metadata": {},
   "outputs": [],
   "source": [
    "print(nwbfile)"
   ]
  },
  {
   "cell_type": "code",
   "execution_count": null,
   "metadata": {},
   "outputs": [],
   "source": [
    "from matplotlib import pyplot as plt\n",
    "import matplotlib.colors as mcolors"
   ]
  },
  {
   "cell_type": "code",
   "execution_count": null,
   "metadata": {},
   "outputs": [],
   "source": [
    "nwbfile.stimulus[\"10mW Laser\"]"
   ]
  },
  {
   "cell_type": "code",
   "execution_count": null,
   "metadata": {},
   "outputs": [],
   "source": [
    "fig, ax = plt.subplots(figsize=(20, 10))\n",
    "plt.plot(\n",
    "    np.arange(\n",
    "        nwbfile.stimulus[\"10mW Laser\"].starting_time,\n",
    "        len(nwbfile.stimulus[\"10mW Laser\"].data) / nwbfile.stimulus[\"10mW Laser\"].rate,\n",
    "        1.0 / nwbfile.stimulus[\"10mW Laser\"].rate,\n",
    "    )[0:2000000],\n",
    "    nwbfile.stimulus[\"10mW Laser\"].data[:2000000],\n",
    ")\n",
    "plt.show()"
   ]
  },
  {
   "cell_type": "code",
   "execution_count": null,
   "metadata": {},
   "outputs": [],
   "source": [
    "import numpy as np"
   ]
  },
  {
   "cell_type": "code",
   "execution_count": null,
   "metadata": {},
   "outputs": [],
   "source": [
    "# get pulse start time, length & interval to next pulse start time for each pulse\n",
    "dts = np.diff(ts)\n",
    "times = ts[0::2]\n",
    "pulses = dts[0::2]\n",
    "intervals = ts[2::2] - ts[0:-2:2]"
   ]
  },
  {
   "cell_type": "code",
   "execution_count": null,
   "metadata": {},
   "outputs": [],
   "source": [
    "# enumerate possible intervals (rounding to nearest 1/10 of smallest interval)\n",
    "interval_res = 0.1 * np.min(intervals)\n",
    "unique_intervals, unique_interval_counts = np.unique(\n",
    "    np.round(intervals / interval_res) * interval_res, return_counts=True\n",
    ")\n",
    "unique_intervals, unique_interval_counts"
   ]
  },
  {
   "cell_type": "code",
   "execution_count": null,
   "metadata": {},
   "outputs": [],
   "source": [
    "# enumerate possible intervals (rounding to nearest 1/10 of smallest pulse)\n",
    "pulse_res = 0.1 * np.min(pulses)\n",
    "unique_pulses, unique_pulse_counts = np.unique(\n",
    "    np.round(pulses / pulse_res) * pulse_res, return_counts=True\n",
    ")\n",
    "unique_pulses, unique_pulse_counts"
   ]
  },
  {
   "cell_type": "code",
   "execution_count": null,
   "metadata": {},
   "outputs": [],
   "source": [
    "times[:10], pulses[:10], intervals[:10]"
   ]
  },
  {
   "cell_type": "code",
   "execution_count": null,
   "metadata": {},
   "outputs": [],
   "source": [
    "# approximate inequality operator: returns true if they differ by at least ~5%\n",
    "def differ(a, b):\n",
    "    return not np.isclose(a, b, rtol=0.05)"
   ]
  },
  {
   "cell_type": "code",
   "execution_count": null,
   "metadata": {},
   "outputs": [],
   "source": [
    "# convert measured interval to nearest unique_interval and return as string\n",
    "def to_hz_str(interval, unique_intervals):\n",
    "    return (\n",
    "        f\"{1.0/unique_intervals[(np.abs(unique_intervals - interval)).argmin()]:.3g} Hz\"\n",
    "    )"
   ]
  },
  {
   "cell_type": "code",
   "execution_count": null,
   "metadata": {},
   "outputs": [],
   "source": [
    "# collect pulses into contiguous chunks of the same frequency\n",
    "\n",
    "# note: interval of zero is a continuous laser pulse\n",
    "conditions = {\"Continuous\": []}\n",
    "for interval in unique_intervals:\n",
    "    conditions[to_hz_str(interval, unique_intervals)] = []\n",
    "\n",
    "i0 = 0\n",
    "t0 = 0\n",
    "n0 = 0\n",
    "for t, p, i in zip(times, pulses, intervals):\n",
    "    print(t, p, i)\n",
    "    if i0 == 0:\n",
    "        t0 = t\n",
    "        p0 = p\n",
    "        i0 = i\n",
    "        n0 = 0\n",
    "        print(f\"starting at {t0} with pulse {p0}, intervals {i0}\")\n",
    "    elif differ(p, p0) or differ(i, i0):\n",
    "        if n0 == 1:\n",
    "            # single pulse -> start/stop times for continuous pulse\n",
    "            print(f\"single pulse -> continuous pulse {t0} -> {p0}\")\n",
    "            conditions[\"Continuous\"].append((t0, p0))\n",
    "            t0 = t\n",
    "            p0 = p\n",
    "            i0 = i\n",
    "            n0 = 0\n",
    "            print(f\"starting at {t0} with pulse {p0}, intervals {i0}\")\n",
    "        else:\n",
    "            # multiple pulses -> start/stop times for fixed frequency pulse\n",
    "            print(f\"ending at {t-t0+p} after {n0} pulses with interval {i0}\")\n",
    "            conditions[to_hz_str(i0, unique_intervals)].append((t0, t - t0 + p))\n",
    "            i0 = 0\n",
    "    n0 = n0 + 1\n",
    "# deal with last pulse\n",
    "# print(f\"finishing last pulse\")\n",
    "if i0 == 0:\n",
    "    # final single pulse -> start/stop times for continuous pulse\n",
    "    print(f\"single pulse -> continuous pulse {times[-1]} -> {pulses[-1]}\")\n",
    "    conditions[\"Continuous\"].append((times[-1], pulses[-1]))\n",
    "else:\n",
    "    # multiple pulses -> start/stop times for fixed frequency pulse\n",
    "    conditions[to_hz_str(i0, unique_intervals)].append((t0, times[-1] - t0 + p0))\n",
    "\n",
    "# todo: above is not yet robust, end cases dubious, multiple continuous pulses dubious, etc etc"
   ]
  },
  {
   "cell_type": "code",
   "execution_count": null,
   "metadata": {},
   "outputs": [],
   "source": [
    "cols = [c for c in mcolors.TABLEAU_COLORS]\n",
    "h = 1\n",
    "hoffset = 0\n",
    "labels = []\n",
    "fig, (ax1, ax2) = plt.subplots(nrows=2, figsize=(20, 10))\n",
    "ax2.set_title(\"Laser Conditions\")\n",
    "for i, (label, chunks) in enumerate(conditions.items()):\n",
    "    if chunks:\n",
    "        labels.append(label)\n",
    "        plt.broken_barh(chunks, (hoffset * i, h), label=labels[-1], color=cols[i + 1])\n",
    "if hoffset != 0:\n",
    "    ax2.set_yticks(np.arange(h / 2, len(labels) * h))\n",
    "    ax2.set_yticklabels(labels)\n",
    "ax1.plot(\n",
    "    np.arange(\n",
    "        nwbfile.stimulus[\"10mW Laser\"].starting_time,\n",
    "        len(nwbfile.stimulus[\"10mW Laser\"].data) / nwbfile.stimulus[\"10mW Laser\"].rate,\n",
    "        1.0 / nwbfile.stimulus[\"10mW Laser\"].rate,\n",
    "    ),\n",
    "    nwbfile.stimulus[\"10mW Laser\"].data[:],\n",
    ")\n",
    "ax1.set_xlim([0, 650])\n",
    "ax2.set_xlim([0, 650])\n",
    "plt.legend()\n",
    "plt.show()"
   ]
  },
  {
   "cell_type": "code",
   "execution_count": null,
   "metadata": {},
   "outputs": [],
   "source": []
  }
 ],
 "metadata": {
  "kernelspec": {
   "display_name": "Python 3 (ipykernel)",
   "language": "python",
   "name": "python3"
  },
  "language_info": {
   "codemirror_mode": {
    "name": "ipython",
    "version": 3
   },
   "file_extension": ".py",
   "mimetype": "text/x-python",
   "name": "python",
   "nbconvert_exporter": "python",
   "pygments_lexer": "ipython3",
   "version": "3.9.7"
  }
 },
 "nbformat": 4,
 "nbformat_minor": 4
}
