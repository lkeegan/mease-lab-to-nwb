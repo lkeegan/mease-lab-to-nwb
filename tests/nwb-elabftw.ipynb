{
 "cells": [
  {
   "cell_type": "code",
   "execution_count": null,
   "id": "2cd22b2e",
   "metadata": {},
   "outputs": [],
   "source": [
    "from mease_lab_to_nwb import CEDNWBConverter\n",
    "from pynwb import NWBHDF5IO\n",
    "from pathlib import Path\n",
    "import matplotlib.pyplot as plt\n",
    "from nwbwidgets import nwb2widget"
   ]
  },
  {
   "cell_type": "code",
   "execution_count": null,
   "id": "c5151a5f-4a7a-4047-9699-65c18f4ac5ab",
   "metadata": {},
   "outputs": [],
   "source": [
    "file_recording = str(Path(\"data/TTLtest_17mW.smrx\").resolve())\n",
    "source_data = dict(\n",
    "    CEDRecording=dict(file_path=file_recording),\n",
    "    CEDStimulus=dict(file_path=file_recording),\n",
    "    Elabftw=dict(experiment_id=388),\n",
    ")\n",
    "converter = CEDNWBConverter(source_data)"
   ]
  },
  {
   "cell_type": "code",
   "execution_count": null,
   "id": "594caeae-05b0-467a-8f2c-eecc70867a70",
   "metadata": {},
   "outputs": [],
   "source": [
    "# run converter\n",
    "file_nwb = \"tmptest.nwb\"\n",
    "converter.run_conversion(\n",
    "    metadata= {}\n",
    "    nwbfile_path=file_nwb,\n",
    "    save_to_file=True,\n",
    "    overwrite=True\n",
    ")"
   ]
  },
  {
   "cell_type": "code",
   "execution_count": null,
   "id": "e6920aa3-4bb4-4b0d-b53b-4e2506c235e0",
   "metadata": {},
   "outputs": [],
   "source": [
    "# read nwb file\n",
    "io = NWBHDF5IO(file_nwb, \"r\")\n",
    "nwbfile = io.read()"
   ]
  },
  {
   "cell_type": "code",
   "execution_count": null,
   "id": "8521b056-1297-4f61-a7fd-9492ae216c18",
   "metadata": {},
   "outputs": [],
   "source": [
    "nwb2widget(nwbfile)"
   ]
  },
  {
   "cell_type": "code",
   "execution_count": null,
   "id": "65ccbf9c-7402-4e9c-9d14-e01e44373bab",
   "metadata": {},
   "outputs": [],
   "source": [
    "nwbfile.stimulus.keys()"
   ]
  },
  {
   "cell_type": "code",
   "execution_count": null,
   "id": "266f416e-a184-4bf6-b34a-0211aa961623",
   "metadata": {},
   "outputs": [],
   "source": [
    "nwbfile.stimulus[\"17mW LaserStimulus\"].timestamps[:100]"
   ]
  },
  {
   "cell_type": "code",
   "execution_count": null,
   "id": "0b546163",
   "metadata": {},
   "outputs": [],
   "source": [
    "nwbfile.stimulus[\"17mW LaserStimulus\"].data[:100]"
   ]
  },
  {
   "cell_type": "code",
   "execution_count": null,
   "id": "308766b2-2cc8-42e1-b9bd-e096bf5a6d48",
   "metadata": {},
   "outputs": [],
   "source": [
    "io.close()"
   ]
  },
  {
   "cell_type": "code",
   "execution_count": null,
   "id": "a7ab5d7c-734e-4cde-9117-a6d897d69823",
   "metadata": {},
   "outputs": [],
   "source": []
  }
 ],
 "metadata": {
  "kernelspec": {
   "display_name": "Python 3 (ipykernel)",
   "language": "python",
   "name": "python3"
  },
  "language_info": {
   "codemirror_mode": {
    "name": "ipython",
    "version": 3
   },
   "file_extension": ".py",
   "mimetype": "text/x-python",
   "name": "python",
   "nbconvert_exporter": "python",
   "pygments_lexer": "ipython3",
   "version": "3.8.13"
  }
 },
 "nbformat": 4,
 "nbformat_minor": 5
}
