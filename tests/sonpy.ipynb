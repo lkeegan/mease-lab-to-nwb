{
 "cells": [
  {
   "cell_type": "code",
   "execution_count": null,
   "id": "869e5932-01e0-4e32-8cfd-327ef13de645",
   "metadata": {},
   "outputs": [],
   "source": [
    "import sonpy.linux.sonpy as sp"
   ]
  },
  {
   "cell_type": "code",
   "execution_count": null,
   "id": "f4f2941a-9e32-46af-a8d8-068d6c4cb940",
   "metadata": {},
   "outputs": [],
   "source": [
    "old_file = sp.SonFile(\"data/TTLtest_small.smrx\", True)"
   ]
  },
  {
   "cell_type": "code",
   "execution_count": null,
   "id": "97a81bb4-22ba-49fb-9895-73c9315d6e04",
   "metadata": {},
   "outputs": [],
   "source": [
    "old_file.FileSize() / 1024 ** 2"
   ]
  },
  {
   "cell_type": "code",
   "execution_count": null,
   "id": "d3100163-350d-444d-bca6-5cea7138ec0a",
   "metadata": {},
   "outputs": [],
   "source": [
    "old_file.CanWrite()"
   ]
  },
  {
   "cell_type": "code",
   "execution_count": null,
   "id": "05c69760-a519-4862-b38b-aab9f3176461",
   "metadata": {},
   "outputs": [],
   "source": [
    "new_file = sp.SonFile(\"TestFile.smrx\")"
   ]
  },
  {
   "cell_type": "code",
   "execution_count": null,
   "id": "2dda2b9a-4676-426a-bd8c-07e144e72eec",
   "metadata": {},
   "outputs": [],
   "source": [
    "new_file.FileSize() / 1024 ** 2"
   ]
  },
  {
   "cell_type": "code",
   "execution_count": null,
   "id": "70800199-3665-4216-bdae-a4596eb431a5",
   "metadata": {},
   "outputs": [],
   "source": [
    "new_file.CanWrite()"
   ]
  },
  {
   "cell_type": "code",
   "execution_count": null,
   "id": "a0f35dc8-1996-437b-8191-2a9a5b8ec430",
   "metadata": {},
   "outputs": [],
   "source": [
    "new_file.SetChannel"
   ]
  },
  {
   "cell_type": "code",
   "execution_count": null,
   "id": "e379e2fc-5cfa-40f2-b6ec-ee4c1bb7351f",
   "metadata": {},
   "outputs": [],
   "source": [
    "for i in range(old_file.MaxChannels()):\n",
    "    if old_file.ChannelType(i) != sp.DataType.Off:\n",
    "        new_file.WriteInts(i, old_file.ReadInts(i, 100, 0), 0)"
   ]
  },
  {
   "cell_type": "code",
   "execution_count": null,
   "id": "cf2fc59c-66b6-4a53-abc2-bbd85febfb21",
   "metadata": {},
   "outputs": [],
   "source": [
    "data = f.ReadInts(1, 1000, 0)\n",
    "type(data)"
   ]
  },
  {
   "cell_type": "code",
   "execution_count": null,
   "id": "effd0774-d38e-4515-8a1a-a16a03e68495",
   "metadata": {},
   "outputs": [],
   "source": [
    "f.MaxChannels()"
   ]
  },
  {
   "cell_type": "code",
   "execution_count": null,
   "id": "67ebacf0-8dfd-4145-b1a1-f5351e832aaf",
   "metadata": {},
   "outputs": [],
   "source": [
    "f.ChannelMaxTime(1)\n",
    "f.Wri"
   ]
  },
  {
   "cell_type": "code",
   "execution_count": null,
   "id": "3db6dd7f-5e73-45e1-98ec-cf3efe4578c8",
   "metadata": {},
   "outputs": [],
   "source": [
    "f.WriteInts(1, [1, 2, 3, 5, 5, 3], 1)"
   ]
  },
  {
   "cell_type": "code",
   "execution_count": null,
   "id": "cc9e222b-67b7-4368-8cc4-d758bc71a94b",
   "metadata": {},
   "outputs": [],
   "source": [
    "data = f.ReadInts(0, 1000000000, 0)\n",
    "len(data)"
   ]
  },
  {
   "cell_type": "code",
   "execution_count": null,
   "id": "7bcad9a7-e64e-4ebb-9550-b360c1d9a68a",
   "metadata": {},
   "outputs": [],
   "source": [
    "?f.WriteEvents"
   ]
  },
  {
   "cell_type": "code",
   "execution_count": null,
   "id": "fa13d4cc-fb32-4fd0-9f67-e45007688c98",
   "metadata": {},
   "outputs": [],
   "source": [
    "new_file.Commit()"
   ]
  },
  {
   "cell_type": "code",
   "execution_count": null,
   "id": "44b405bd-7065-4039-bcb2-f716ec7a4b0d",
   "metadata": {},
   "outputs": [],
   "source": [
    "new_file.IsModified()"
   ]
  },
  {
   "cell_type": "code",
   "execution_count": null,
   "id": "506c41b9-17d2-4809-87cb-9b4f7d232def",
   "metadata": {},
   "outputs": [],
   "source": []
  }
 ],
 "metadata": {
  "kernelspec": {
   "display_name": "Python 3 (ipykernel)",
   "language": "python",
   "name": "python3"
  },
  "language_info": {
   "codemirror_mode": {
    "name": "ipython",
    "version": 3
   },
   "file_extension": ".py",
   "mimetype": "text/x-python",
   "name": "python",
   "nbconvert_exporter": "python",
   "pygments_lexer": "ipython3",
   "version": "3.8.12"
  }
 },
 "nbformat": 4,
 "nbformat_minor": 5
}
