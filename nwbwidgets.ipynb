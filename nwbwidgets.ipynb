{
 "cells": [
  {
   "cell_type": "code",
   "execution_count": null,
   "id": "ca55c20c-9c44-4e62-8728-b88c3f829b00",
   "metadata": {},
   "outputs": [],
   "source": [
    "import mease_lab_to_nwb\n",
    "from nwbwidgets import nwb2widget\n",
    "from pynwb import NWBHDF5IO\n",
    "from matplotlib import pyplot as plt\n",
    "import numpy as np"
   ]
  },
  {
   "cell_type": "code",
   "execution_count": null,
   "id": "9543da40-d315-4ce4-bea4-7fa281a1ff61",
   "metadata": {},
   "outputs": [],
   "source": [
    "io = NWBHDF5IO(\"/mnt/sds/Yulia/m6/KS3/m6_4mW+mech.nwb\", \"r\")\n",
    "nwbfile = io.read()\n",
    "nwb2widget(nwbfile)"
   ]
  },
  {
   "cell_type": "code",
   "execution_count": null,
   "id": "dd3cfb70-de9e-41d2-984e-58a7edc6bfa3",
   "metadata": {},
   "outputs": [],
   "source": [
    "p = nwbfile.get_processing_module()"
   ]
  },
  {
   "cell_type": "code",
   "execution_count": null,
   "id": "183c37f1-6825-4b4a-a563-35ab4392fb5b",
   "metadata": {},
   "outputs": [],
   "source": [
    "p.children[0].to_dataframe()"
   ]
  },
  {
   "cell_type": "code",
   "execution_count": null,
   "id": "fef298c4-c416-4e87-aeb1-78e7445e109f",
   "metadata": {},
   "outputs": [],
   "source": []
  }
 ],
 "metadata": {
  "kernelspec": {
   "display_name": "Python 3 (ipykernel)",
   "language": "python",
   "name": "python3"
  },
  "language_info": {
   "codemirror_mode": {
    "name": "ipython",
    "version": 3
   },
   "file_extension": ".py",
   "mimetype": "text/x-python",
   "name": "python",
   "nbconvert_exporter": "python",
   "pygments_lexer": "ipython3",
   "version": "3.8.12"
  }
 },
 "nbformat": 4,
 "nbformat_minor": 5
}
