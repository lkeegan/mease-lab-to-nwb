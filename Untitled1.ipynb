{
 "cells": [
  {
   "cell_type": "code",
   "execution_count": null,
   "id": "62bf6df9-e79d-4356-a26a-a07ca9dd9743",
   "metadata": {},
   "outputs": [],
   "source": [
    "import mease_lab_to_nwb\n",
    "from nwbwidgets import nwb2widget\n",
    "from pynwb import NWBHDF5IO\n",
    "from matplotlib import pyplot as plt\n",
    "import numpy as np"
   ]
  },
  {
   "cell_type": "code",
   "execution_count": null,
   "id": "e4a6d729-ea5d-4462-b350-9b75940773c4",
   "metadata": {
    "tags": []
   },
   "outputs": [],
   "source": [
    "io = NWBHDF5IO(\"out_example_ced.nwb\", \"r\")\n",
    "nwbfile = io.read()\n",
    "nwb2widget(nwbfile)"
   ]
  },
  {
   "cell_type": "code",
   "execution_count": null,
   "id": "4d4ecbd6-0377-4ca5-82fd-f7b4ea559a62",
   "metadata": {},
   "outputs": [],
   "source": [
    "nwbfile.stimulus"
   ]
  },
  {
   "cell_type": "code",
   "execution_count": null,
   "id": "b6e20373-c5d5-413c-9955-a9a59c0df322",
   "metadata": {},
   "outputs": [],
   "source": [
    "stim = nwbfile.get_stimulus(\"LaserStimulus\")"
   ]
  },
  {
   "cell_type": "code",
   "execution_count": null,
   "id": "73f94813-6705-4cae-82a5-a31ff6f3ef5b",
   "metadata": {},
   "outputs": [],
   "source": [
    "stim.timestamps[:]"
   ]
  },
  {
   "cell_type": "code",
   "execution_count": null,
   "id": "1d4cf927-96ae-46f1-a6e5-70ee1c756ca5",
   "metadata": {},
   "outputs": [],
   "source": []
  }
 ],
 "metadata": {
  "kernelspec": {
   "display_name": "Python 3 (ipykernel)",
   "language": "python",
   "name": "python3"
  },
  "language_info": {
   "codemirror_mode": {
    "name": "ipython",
    "version": 3
   },
   "file_extension": ".py",
   "mimetype": "text/x-python",
   "name": "python",
   "nbconvert_exporter": "python",
   "pygments_lexer": "ipython3",
   "version": "3.8.11"
  }
 },
 "nbformat": 4,
 "nbformat_minor": 5
}
