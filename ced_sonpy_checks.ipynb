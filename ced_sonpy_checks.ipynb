{
 "cells": [
  {
   "cell_type": "code",
   "execution_count": null,
   "id": "0a67b731-097e-40de-b746-5caba63bd490",
   "metadata": {},
   "outputs": [],
   "source": [
    "import mease_lab_to_nwb\n",
    "from nwbwidgets import nwb2widget\n",
    "from pynwb import NWBHDF5IO\n",
    "from sonpy import lib as sonpy\n",
    "from matplotlib import pyplot as plt\n",
    "import numpy as np"
   ]
  },
  {
   "cell_type": "code",
   "execution_count": null,
   "id": "179150fd-5074-4511-b6cf-2e88edaf0e80",
   "metadata": {},
   "outputs": [],
   "source": [
    "file_recording = \"tests/data/H5_Mech_1Hz_10Hz.smrx\"\n",
    "# file_recording=\"/mnt/sds/PainData/Corrected_Channel_Map/L6/Cortex/16.12.20/Dual_S1_VPL_Freq_10mW.smrx\"\n",
    "# file_recording=\"/mnt/sds/Yulia/m6/KS3/P1_S1HL_MechLaser_4mW.smrx\""
   ]
  },
  {
   "cell_type": "code",
   "execution_count": null,
   "id": "0a3df087-3e35-4161-b430-6eb0562da6ef",
   "metadata": {},
   "outputs": [],
   "source": [
    "plt.rcParams[\"figure.figsize\"] = (30, 3)"
   ]
  },
  {
   "cell_type": "code",
   "execution_count": null,
   "id": "75490694-2446-42a0-ad79-ae1e3822aba8",
   "metadata": {},
   "outputs": [],
   "source": [
    "def plot(filename, channel_index, start=0.0, end=184.9, rescale=True):\n",
    "    spFile = sonpy.SonFile(file_recording, True)\n",
    "    assert (\n",
    "        spFile.ChannelType(channel_index) == sonpy.DataType.Adc\n",
    "    ), \"Channel type must be Adc (integer wave)\"\n",
    "    maxTick = spFile.ChannelMaxTime(channel_index)\n",
    "    print(channel_index, maxTick)\n",
    "    intervalInTicks = spFile.ChannelDivide(channel_index)\n",
    "    tickLength = spFile.GetTimeBase()\n",
    "    maxTime = maxTick * tickLength\n",
    "    print(maxTick / intervalInTicks)\n",
    "    data = sonpy.SonFile.ReadInts(\n",
    "        spFile, channel_index, int(maxTick / intervalInTicks), 0\n",
    "    )\n",
    "    magicNumberFromSonpyPdfDocs = 6553.6\n",
    "    scaleFactor = spFile.GetChannelScale(channel_index) / magicNumberFromSonpyPdfDocs\n",
    "    if rescale:\n",
    "        data = data * scaleFactor\n",
    "        data += spFile.GetChannelOffset(channel_index)\n",
    "    d_max = np.max(data)\n",
    "    d_min = np.min(data)\n",
    "    i_start = int(start / tickLength / intervalInTicks)\n",
    "    i_end = int(end / tickLength / intervalInTicks)\n",
    "    plt.title(spFile.GetChannelTitle(channel_index))\n",
    "    plt.ylim([d_min, d_max])\n",
    "    plt.ylabel(spFile.GetChannelUnits(channel_index))\n",
    "    if rescale:\n",
    "        plt.plot(np.linspace(start, end, i_end - i_start), data[i_start:i_end])\n",
    "    else:\n",
    "        plt.plot(data[i_start:i_end])\n",
    "    plt.show()"
   ]
  },
  {
   "cell_type": "code",
   "execution_count": null,
   "id": "27de0ebc-07a7-48e1-92a5-7f11f6367603",
   "metadata": {},
   "outputs": [],
   "source": [
    "for i in [67, 70, 71, 72]:\n",
    "    plot(file_recording, i, rescale=True)"
   ]
  },
  {
   "cell_type": "code",
   "execution_count": null,
   "id": "10a7dbbb-1e48-4940-b7c5-bcbedc1385cb",
   "metadata": {},
   "outputs": [],
   "source": [
    "# for i in range(spFile.MaxChannels()):\n",
    "# print(i, \"\"  else spFile.GetChannelTitle(i), spFile.ChannelType(i))"
   ]
  },
  {
   "cell_type": "code",
   "execution_count": null,
   "id": "98fac54b-8c9b-4008-a5f4-528d7e0e7add",
   "metadata": {},
   "outputs": [],
   "source": [
    "source_data = dict(\n",
    "    CEDRecording=dict(file_path=file_recording),\n",
    "    CEDStimulus=dict(file_path=file_recording),\n",
    ")"
   ]
  },
  {
   "cell_type": "code",
   "execution_count": null,
   "id": "000eddb7-088d-4c1a-a411-f70faba96b70",
   "metadata": {},
   "outputs": [],
   "source": [
    "converter = mease_lab_to_nwb.CEDNWBConverter(source_data=source_data)"
   ]
  },
  {
   "cell_type": "code",
   "execution_count": null,
   "id": "af27672f-af16-4ec8-891b-c3f111f216f4",
   "metadata": {},
   "outputs": [],
   "source": [
    "print(source_data)"
   ]
  },
  {
   "cell_type": "code",
   "execution_count": null,
   "id": "260583ef-7289-4c66-bc36-485e41915f61",
   "metadata": {},
   "outputs": [],
   "source": [
    "# Get metadata from source data and modify any values you want\n",
    "metadata = converter.get_metadata()\n",
    "\n",
    "# Get conversion options and modify any values you want\n",
    "conversion_options = converter.get_conversion_options()\n",
    "\n",
    "# OPTIONAL - Validate source_data, metadata and conversion_options\n",
    "converter.validate_source(source_data)\n",
    "converter.validate_metadata(metadata)\n",
    "converter.validate_conversion_options(conversion_options)\n",
    "\n",
    "# Run conversion\n",
    "output_file = \"out_example_ced.nwb\"\n",
    "\n",
    "converter.run_conversion(\n",
    "    metadata=metadata,\n",
    "    nwbfile_path=output_file,\n",
    "    save_to_file=True,\n",
    "    overwrite=True,\n",
    "    conversion_options=conversion_options,\n",
    ")"
   ]
  },
  {
   "cell_type": "code",
   "execution_count": null,
   "id": "1e49f3b5-7128-4605-83c2-3c09bc60a419",
   "metadata": {},
   "outputs": [],
   "source": [
    "output_file = \"out_example_ced.nwb\"\n",
    "io = NWBHDF5IO(output_file, \"r\")\n",
    "nwbfile = io.read()\n",
    "nwb2widget(nwbfile)"
   ]
  },
  {
   "cell_type": "code",
   "execution_count": null,
   "id": "42d7a46e-e26b-45d2-be21-05af126b9b34",
   "metadata": {},
   "outputs": [],
   "source": [
    "# io.close()"
   ]
  },
  {
   "cell_type": "code",
   "execution_count": null,
   "id": "6f456b30-ccaa-40da-a867-2563847d1ace",
   "metadata": {},
   "outputs": [],
   "source": []
  }
 ],
 "metadata": {
  "kernelspec": {
   "display_name": "Python 3 (ipykernel)",
   "language": "python",
   "name": "python3"
  },
  "language_info": {
   "codemirror_mode": {
    "name": "ipython",
    "version": 3
   },
   "file_extension": ".py",
   "mimetype": "text/x-python",
   "name": "python",
   "nbconvert_exporter": "python",
   "pygments_lexer": "ipython3",
   "version": "3.8.12"
  }
 },
 "nbformat": 4,
 "nbformat_minor": 5
}
